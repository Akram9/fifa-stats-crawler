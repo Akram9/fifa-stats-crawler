{
  "cells": [
    {
      "cell_type": "code",
      "execution_count": 1,
      "metadata": {
        "colab": {},
        "colab_type": "code",
        "id": "zGQKoPgYAnZ8"
      },
      "outputs": [],
      "source": [
        "import pandas as pd\n",
        "import json"
      ]
    },
    {
      "cell_type": "code",
      "metadata": {
        "id": "SGVledX-A1tX",
        "colab_type": "code",
        "colab": {}
      },
      "source": [
        "df = pd.read_json('../data/json/players_stats_raw.json', encoding='utf-8')\n",
        "len(df.index)"
      ],
      "execution_count": 2,
      "outputs": [
        {
          "output_type": "execute_result",
          "data": {
            "text/plain": "19719"
          },
          "metadata": {},
          "execution_count": 2
        }
      ]
    },
    {
      "cell_type": "code",
      "metadata": {
        "id": "qeK2YlvHDgeC",
        "colab_type": "code",
        "colab": {}
      },
      "source": [
        "df = data.drop_duplicates(subset='name')\n",
        "df.head()"
      ],
      "execution_count": 3,
      "outputs": [
        {
          "output_type": "error",
          "ename": "NameError",
          "evalue": "name 'data' is not defined",
          "traceback": [
            "\u001b[1;31m---------------------------------------------------------------------------\u001b[0m",
            "\u001b[1;31mNameError\u001b[0m                                 Traceback (most recent call last)",
            "\u001b[1;32m<ipython-input-3-f42421feb012>\u001b[0m in \u001b[0;36m<module>\u001b[1;34m\u001b[0m\n\u001b[1;32m----> 1\u001b[1;33m \u001b[0mdf\u001b[0m \u001b[1;33m=\u001b[0m \u001b[0mdata\u001b[0m\u001b[1;33m.\u001b[0m\u001b[0mdrop_duplicates\u001b[0m\u001b[1;33m(\u001b[0m\u001b[0msubset\u001b[0m\u001b[1;33m=\u001b[0m\u001b[1;34m'name'\u001b[0m\u001b[1;33m)\u001b[0m\u001b[1;33m\u001b[0m\u001b[1;33m\u001b[0m\u001b[0m\n\u001b[0m\u001b[0;32m      2\u001b[0m \u001b[0mdf\u001b[0m\u001b[1;33m.\u001b[0m\u001b[0mhead\u001b[0m\u001b[1;33m(\u001b[0m\u001b[1;33m)\u001b[0m\u001b[1;33m\u001b[0m\u001b[1;33m\u001b[0m\u001b[0m\n",
            "\u001b[1;31mNameError\u001b[0m: name 'data' is not defined"
          ]
        }
      ]
    },
    {
      "cell_type": "code",
      "execution_count": 4,
      "metadata": {},
      "outputs": [
        {
          "output_type": "execute_result",
          "data": {
            "text/plain": "                                  name  \\\n0       Lionel Andrés Messi Cuccittini   \n1  Cristiano Ronaldo dos Santos Aveiro   \n2        Neymar da Silva Santos Junior   \n3                      Virgil van Dijk   \n4                            Jan Oblak   \n\n                                           photo_url positions  age  \\\n0  https://cdn.sofifa.com/players/158/023/20_120.png  RW,ST,CF   32   \n1  https://cdn.sofifa.com/players/020/801/20_120.png     ST,LW   34   \n2  https://cdn.sofifa.com/players/190/871/20_120.png    LW,CAM   27   \n3  https://cdn.sofifa.com/players/203/376/20_120.png        CB   27   \n4  https://cdn.sofifa.com/players/200/389/20_120.png        GK   26   \n\n    birth_date  height  weight  Overall Rating  Potential    Value  ...  \\\n0  1987/Jun/24     170      72              94         94   €95.5M  ...   \n1   1985/Feb/5     187      83              93         93   €58.5M  ...   \n2   1992/Feb/5     175      68              92         92  €105.5M  ...   \n3   1991/Jul/8     193      92              91         92     €90M  ...   \n4   1993/Jan/7     188      87              91         93   €77.5M  ...   \n\n                                       teams  \\\n0      {'FC Barcelona': 86, 'Argentina': 82}   \n1           {'Juventus': 85, 'Portugal': 83}   \n2  {'Paris Saint-Germain': 85, 'Brazil': 81}   \n3       {'Liverpool': 85, 'Netherlands': 83}   \n4    {'Atlético Madrid': 83, 'Slovenia': 74}   \n\n                                           attacking  \\\n0  {'Crossing': 88, 'Finishing': 95, 'HeadingAccu...   \n1  {'Crossing': 84, 'Finishing': 94, 'HeadingAccu...   \n2  {'Crossing': 87, 'Finishing': 87, 'HeadingAccu...   \n3  {'Crossing': 53, 'Finishing': 52, 'HeadingAccu...   \n4  {'Crossing': 13, 'Finishing': 11, 'HeadingAccu...   \n\n                                               skill  \\\n0  {'Dribbling': 97, 'Curve': 93, 'FKAccuracy': 9...   \n1  {'Dribbling': 89, 'Curve': 81, 'FKAccuracy': 7...   \n2  {'Dribbling': 96, 'Curve': 88, 'FKAccuracy': 8...   \n3  {'Dribbling': 70, 'Curve': 60, 'FKAccuracy': 7...   \n4  {'Dribbling': 12, 'Curve': 13, 'FKAccuracy': 1...   \n\n                                            movement  \\\n0  {'Acceleration': 91, 'SprintSpeed': 84, 'Agili...   \n1  {'Acceleration': 88, 'SprintSpeed': 91, 'Agili...   \n2  {'Acceleration': 94, 'SprintSpeed': 89, 'Agili...   \n3  {'Acceleration': 74, 'SprintSpeed': 79, 'Agili...   \n4  {'Acceleration': 43, 'SprintSpeed': 60, 'Agili...   \n\n                                               power  \\\n0  {'ShotPower': 86, 'Jumping': 68, 'Stamina': 75...   \n1  {'ShotPower': 95, 'Jumping': 95, 'Stamina': 85...   \n2  {'ShotPower': 80, 'Jumping': 61, 'Stamina': 81...   \n3  {'ShotPower': 81, 'Jumping': 90, 'Stamina': 75...   \n4  {'ShotPower': 59, 'Jumping': 78, 'Stamina': 41...   \n\n                                           mentality  \\\n0  {'Aggression': 48, 'Interceptions': 40, 'Posit...   \n1  {'Aggression': 63, 'Interceptions': 29, 'Posit...   \n2  {'Aggression': 51, 'Interceptions': 36, 'Posit...   \n3  {'Aggression': 83, 'Interceptions': 90, 'Posit...   \n4  {'Aggression': 34, 'Interceptions': 19, 'Posit...   \n\n                                           defending  \\\n0  {'DefensiveAwareness': 33, 'StandingTackle': 3...   \n1  {'DefensiveAwareness': 28, 'StandingTackle': 3...   \n2  {'DefensiveAwareness': 35, 'StandingTackle': 3...   \n3  {'DefensiveAwareness': 93, 'StandingTackle': 9...   \n4  {'DefensiveAwareness': 27, 'StandingTackle': 1...   \n\n                                         goalkeeping  \\\n0  {'GKDiving': 6, 'GKHandling': 11, 'GKKicking':...   \n1  {'GKDiving': 7, 'GKHandling': 11, 'GKKicking':...   \n2  {'GKDiving': 9, 'GKHandling': 9, 'GKKicking': ...   \n3  {'GKDiving': 13, 'GKHandling': 10, 'GKKicking'...   \n4  {'GKDiving': 87, 'GKHandling': 92, 'GKKicking'...   \n\n                                       player_traits  \\\n0  [Finesse Shot, Long Shot Taker (AI), Speed Dri...   \n1  [Power Free-Kick, Flair, Long Shot Taker (AI),...   \n2  [Injury Prone, Flair, Speed Dribbler (AI), Out...   \n3  [Solid Player, Leadership, Long Passer (AI), P...   \n4                 [GK Long Throw, Comes For Crosses]   \n\n                                     player_hashtags  \n0  [#Dribbler, #Distance Shooter, #Crosser, #FK S...  \n1  [#Dribbler, #Distance Shooter, #Acrobat, #Clin...  \n2  [#Speedster, #Dribbler, #Playmaker , #Crosser,...  \n3  [#Tackling , #Tactician , #Strength, #Complete...  \n4                                                 []  \n\n[5 rows x 29 columns]",
            "text/html": "<div>\n<style scoped>\n    .dataframe tbody tr th:only-of-type {\n        vertical-align: middle;\n    }\n\n    .dataframe tbody tr th {\n        vertical-align: top;\n    }\n\n    .dataframe thead th {\n        text-align: right;\n    }\n</style>\n<table border=\"1\" class=\"dataframe\">\n  <thead>\n    <tr style=\"text-align: right;\">\n      <th></th>\n      <th>name</th>\n      <th>photo_url</th>\n      <th>positions</th>\n      <th>age</th>\n      <th>birth_date</th>\n      <th>height</th>\n      <th>weight</th>\n      <th>Overall Rating</th>\n      <th>Potential</th>\n      <th>Value</th>\n      <th>...</th>\n      <th>teams</th>\n      <th>attacking</th>\n      <th>skill</th>\n      <th>movement</th>\n      <th>power</th>\n      <th>mentality</th>\n      <th>defending</th>\n      <th>goalkeeping</th>\n      <th>player_traits</th>\n      <th>player_hashtags</th>\n    </tr>\n  </thead>\n  <tbody>\n    <tr>\n      <th>0</th>\n      <td>Lionel Andrés Messi Cuccittini</td>\n      <td>https://cdn.sofifa.com/players/158/023/20_120.png</td>\n      <td>RW,ST,CF</td>\n      <td>32</td>\n      <td>1987/Jun/24</td>\n      <td>170</td>\n      <td>72</td>\n      <td>94</td>\n      <td>94</td>\n      <td>€95.5M</td>\n      <td>...</td>\n      <td>{'FC Barcelona': 86, 'Argentina': 82}</td>\n      <td>{'Crossing': 88, 'Finishing': 95, 'HeadingAccu...</td>\n      <td>{'Dribbling': 97, 'Curve': 93, 'FKAccuracy': 9...</td>\n      <td>{'Acceleration': 91, 'SprintSpeed': 84, 'Agili...</td>\n      <td>{'ShotPower': 86, 'Jumping': 68, 'Stamina': 75...</td>\n      <td>{'Aggression': 48, 'Interceptions': 40, 'Posit...</td>\n      <td>{'DefensiveAwareness': 33, 'StandingTackle': 3...</td>\n      <td>{'GKDiving': 6, 'GKHandling': 11, 'GKKicking':...</td>\n      <td>[Finesse Shot, Long Shot Taker (AI), Speed Dri...</td>\n      <td>[#Dribbler, #Distance Shooter, #Crosser, #FK S...</td>\n    </tr>\n    <tr>\n      <th>1</th>\n      <td>Cristiano Ronaldo dos Santos Aveiro</td>\n      <td>https://cdn.sofifa.com/players/020/801/20_120.png</td>\n      <td>ST,LW</td>\n      <td>34</td>\n      <td>1985/Feb/5</td>\n      <td>187</td>\n      <td>83</td>\n      <td>93</td>\n      <td>93</td>\n      <td>€58.5M</td>\n      <td>...</td>\n      <td>{'Juventus': 85, 'Portugal': 83}</td>\n      <td>{'Crossing': 84, 'Finishing': 94, 'HeadingAccu...</td>\n      <td>{'Dribbling': 89, 'Curve': 81, 'FKAccuracy': 7...</td>\n      <td>{'Acceleration': 88, 'SprintSpeed': 91, 'Agili...</td>\n      <td>{'ShotPower': 95, 'Jumping': 95, 'Stamina': 85...</td>\n      <td>{'Aggression': 63, 'Interceptions': 29, 'Posit...</td>\n      <td>{'DefensiveAwareness': 28, 'StandingTackle': 3...</td>\n      <td>{'GKDiving': 7, 'GKHandling': 11, 'GKKicking':...</td>\n      <td>[Power Free-Kick, Flair, Long Shot Taker (AI),...</td>\n      <td>[#Dribbler, #Distance Shooter, #Acrobat, #Clin...</td>\n    </tr>\n    <tr>\n      <th>2</th>\n      <td>Neymar da Silva Santos Junior</td>\n      <td>https://cdn.sofifa.com/players/190/871/20_120.png</td>\n      <td>LW,CAM</td>\n      <td>27</td>\n      <td>1992/Feb/5</td>\n      <td>175</td>\n      <td>68</td>\n      <td>92</td>\n      <td>92</td>\n      <td>€105.5M</td>\n      <td>...</td>\n      <td>{'Paris Saint-Germain': 85, 'Brazil': 81}</td>\n      <td>{'Crossing': 87, 'Finishing': 87, 'HeadingAccu...</td>\n      <td>{'Dribbling': 96, 'Curve': 88, 'FKAccuracy': 8...</td>\n      <td>{'Acceleration': 94, 'SprintSpeed': 89, 'Agili...</td>\n      <td>{'ShotPower': 80, 'Jumping': 61, 'Stamina': 81...</td>\n      <td>{'Aggression': 51, 'Interceptions': 36, 'Posit...</td>\n      <td>{'DefensiveAwareness': 35, 'StandingTackle': 3...</td>\n      <td>{'GKDiving': 9, 'GKHandling': 9, 'GKKicking': ...</td>\n      <td>[Injury Prone, Flair, Speed Dribbler (AI), Out...</td>\n      <td>[#Speedster, #Dribbler, #Playmaker , #Crosser,...</td>\n    </tr>\n    <tr>\n      <th>3</th>\n      <td>Virgil van Dijk</td>\n      <td>https://cdn.sofifa.com/players/203/376/20_120.png</td>\n      <td>CB</td>\n      <td>27</td>\n      <td>1991/Jul/8</td>\n      <td>193</td>\n      <td>92</td>\n      <td>91</td>\n      <td>92</td>\n      <td>€90M</td>\n      <td>...</td>\n      <td>{'Liverpool': 85, 'Netherlands': 83}</td>\n      <td>{'Crossing': 53, 'Finishing': 52, 'HeadingAccu...</td>\n      <td>{'Dribbling': 70, 'Curve': 60, 'FKAccuracy': 7...</td>\n      <td>{'Acceleration': 74, 'SprintSpeed': 79, 'Agili...</td>\n      <td>{'ShotPower': 81, 'Jumping': 90, 'Stamina': 75...</td>\n      <td>{'Aggression': 83, 'Interceptions': 90, 'Posit...</td>\n      <td>{'DefensiveAwareness': 93, 'StandingTackle': 9...</td>\n      <td>{'GKDiving': 13, 'GKHandling': 10, 'GKKicking'...</td>\n      <td>[Solid Player, Leadership, Long Passer (AI), P...</td>\n      <td>[#Tackling , #Tactician , #Strength, #Complete...</td>\n    </tr>\n    <tr>\n      <th>4</th>\n      <td>Jan Oblak</td>\n      <td>https://cdn.sofifa.com/players/200/389/20_120.png</td>\n      <td>GK</td>\n      <td>26</td>\n      <td>1993/Jan/7</td>\n      <td>188</td>\n      <td>87</td>\n      <td>91</td>\n      <td>93</td>\n      <td>€77.5M</td>\n      <td>...</td>\n      <td>{'Atlético Madrid': 83, 'Slovenia': 74}</td>\n      <td>{'Crossing': 13, 'Finishing': 11, 'HeadingAccu...</td>\n      <td>{'Dribbling': 12, 'Curve': 13, 'FKAccuracy': 1...</td>\n      <td>{'Acceleration': 43, 'SprintSpeed': 60, 'Agili...</td>\n      <td>{'ShotPower': 59, 'Jumping': 78, 'Stamina': 41...</td>\n      <td>{'Aggression': 34, 'Interceptions': 19, 'Posit...</td>\n      <td>{'DefensiveAwareness': 27, 'StandingTackle': 1...</td>\n      <td>{'GKDiving': 87, 'GKHandling': 92, 'GKKicking'...</td>\n      <td>[GK Long Throw, Comes For Crosses]</td>\n      <td>[]</td>\n    </tr>\n  </tbody>\n</table>\n<p>5 rows × 29 columns</p>\n</div>"
          },
          "metadata": {},
          "execution_count": 4
        }
      ],
      "source": [
        "################# Data Cleaning #################\n",
        "#################################################\n",
        "\n",
        "# Split string into list\n",
        "df['player_traits'] = df['player_traits'].apply(lambda trait_str: trait_str.split(','))\n",
        "\n",
        "# Split string into list\n",
        "df['player_hashtags'] = df['player_hashtags'].apply(lambda specials_str: specials_str.split(','))\n",
        "\n",
        "df.head()"
      ]
    },
    {
      "cell_type": "code",
      "metadata": {
        "id": "3PWF66ORDhKL",
        "colab_type": "code",
        "colab": {}
      },
      "source": [
        "# Export modified dataframe to json\n",
        "df.to_json('../data/json/players_stats.json', orient='records', force_ascii=False)\n",
        "\n",
        "# Export modified dataframe to csv\n",
        "df.to_csv('../data/csv/players_stats.csv', index=False, encoding=False)"
      ],
      "execution_count": 5,
      "outputs": []
    },
    {
      "cell_type": "code",
      "execution_count": null,
      "metadata": {},
      "outputs": [],
      "source": []
    }
  ],
  "metadata": {
    "colab": {
      "name": "Fifa-dataset-2020.ipynb",
      "provenance": []
    },
    "kernelspec": {
      "name": "python3",
      "display_name": "Python 3"
    }
  },
  "nbformat": 4,
  "nbformat_minor": 0
}